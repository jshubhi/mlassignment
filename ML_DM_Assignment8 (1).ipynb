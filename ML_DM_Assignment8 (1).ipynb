{
  "nbformat": 4,
  "nbformat_minor": 0,
  "metadata": {
    "colab": {
      "name": "ML_DM_Assignment8.ipynb",
      "provenance": [],
      "collapsed_sections": []
    },
    "kernelspec": {
      "name": "python3",
      "display_name": "Python 3"
    }
  },
  "cells": [
    {
      "cell_type": "code",
      "metadata": {
        "id": "vE2KjekyfIfZ",
        "colab_type": "code",
        "colab": {}
      },
      "source": [
        "import numpy as np \n",
        "import matplotlib.pyplot as plt\n",
        "from sklearn.svm import SVC\n",
        "import pandas as pd\n",
        "import seaborn as sns\n",
        "from sklearn.model_selection import train_test_split, GridSearchCV, RandomizedSearchCV\n",
        "from sklearn.preprocessing import StandardScaler\n",
        "%matplotlib inline\n",
        "\n",
        "import plotly.offline as py\n",
        "py.init_notebook_mode(connected=True)\n",
        "import plotly.tools as tls\n",
        "import plotly.graph_objs as go\n",
        "\n",
        "from sklearn.ensemble import RandomForestClassifier, GradientBoostingClassifier\n",
        "from sklearn.metrics import (accuracy_score, log_loss, classification_report)\n",
        "from sklearn.linear_model import LogisticRegression\n",
        "from imblearn.over_sampling import SMOTE\n",
        "import xgboost\n"
      ],
      "execution_count": 0,
      "outputs": []
    },
    {
      "cell_type": "code",
      "metadata": {
        "id": "L5hOhD6jffdP",
        "colab_type": "code",
        "colab": {}
      },
      "source": [
        "attrition = pd.read_csv('WA_Fn-UseC_-HR-Employee-Attrition.csv')\n",
        "attrition.head()"
      ],
      "execution_count": 0,
      "outputs": []
    },
    {
      "cell_type": "code",
      "metadata": {
        "id": "aYQc2KqNgBhj",
        "colab_type": "code",
        "colab": {}
      },
      "source": [
        "display(attrition.isnull().any())"
      ],
      "execution_count": 0,
      "outputs": []
    },
    {
      "cell_type": "code",
      "metadata": {
        "id": "wJMioQpigNfX",
        "colab_type": "code",
        "colab": {}
      },
      "source": [
        "attrition.Attrition.value_counts().plot(kind='bar',alpha=.65)\n",
        "plt.title(\"Attrition Breakdown\")"
      ],
      "execution_count": 0,
      "outputs": []
    },
    {
      "cell_type": "code",
      "metadata": {
        "id": "895lH1UHgUok",
        "colab_type": "code",
        "colab": {}
      },
      "source": [
        "pd.crosstab(attrition.Gender,attrition.Attrition).plot(kind='bar')\n",
        "plt.title('Attrition wrt Gender')\n",
        "plt.xlabel('Gender')\n",
        "plt.ylabel('Frequency of Attrition')"
      ],
      "execution_count": 0,
      "outputs": []
    },
    {
      "cell_type": "code",
      "metadata": {
        "id": "pwtAgC7CgqHw",
        "colab_type": "code",
        "colab": {}
      },
      "source": [
        "pd.crosstab(attrition.BusinessTravel,attrition.Attrition).plot(kind='bar')\n",
        "plt.title('Attrition wrt BusinessTravel')\n",
        "plt.xlabel('BusinessTravel')\n",
        "plt.ylabel('Frequency of Attrition')\n",
        "plt.xticks(rotation=40)"
      ],
      "execution_count": 0,
      "outputs": []
    },
    {
      "cell_type": "code",
      "metadata": {
        "id": "QsyOJHa2gwL-",
        "colab_type": "code",
        "colab": {}
      },
      "source": [
        "pd.crosstab(attrition.Department,attrition.Attrition).plot(kind='bar', stacked=False)\n",
        "plt.title('Attrition wrt Department')\n",
        "plt.xlabel('Department')\n",
        "plt.ylabel('Frequency of Attrition')\n",
        "plt.xticks(rotation=40)"
      ],
      "execution_count": 0,
      "outputs": []
    },
    {
      "cell_type": "code",
      "metadata": {
        "id": "-mTCSdFFgx5k",
        "colab_type": "code",
        "colab": {}
      },
      "source": [
        "pd.crosstab(attrition['EducationField'],attrition['Attrition']).plot(kind='bar',stacked=False)\n",
        "plt.title('Attrition wrt EducationField')\n",
        "plt.xlabel('EducationField')\n",
        "plt.ylabel('Frequency of Attrition')"
      ],
      "execution_count": 0,
      "outputs": []
    },
    {
      "cell_type": "code",
      "metadata": {
        "id": "zGTMpmWsg9Dr",
        "colab_type": "code",
        "colab": {}
      },
      "source": [
        "pd.crosstab(attrition['JobRole'],attrition['Attrition']).plot(kind='bar', stacked=False)\n",
        "plt.title('Attrition wrt JobRole')\n",
        "plt.xlabel('JobRole')\n",
        "plt.ylabel('Frequency of Attrition')"
      ],
      "execution_count": 0,
      "outputs": []
    },
    {
      "cell_type": "code",
      "metadata": {
        "id": "7i2g_3HdhNUP",
        "colab_type": "code",
        "colab": {}
      },
      "source": [
        "pd.crosstab(attrition['MaritalStatus'],attrition['Attrition']).plot(kind='bar', stacked=False)\n",
        "plt.title('Attrition wrt MaritalStatus')\n",
        "plt.xlabel('MaritalStatus')\n",
        "plt.ylabel('Frequency of Attrition')"
      ],
      "execution_count": 0,
      "outputs": []
    },
    {
      "cell_type": "code",
      "metadata": {
        "id": "JxcQezxVhTpA",
        "colab_type": "code",
        "colab": {}
      },
      "source": [
        "# Plotting the KDEplots\n",
        "f, axes = plt.subplots(3, 3, figsize=(10, 8),\n",
        "sharex=False, sharey=False)\n",
        "# Defining our colormap scheme\n",
        "s = np.linspace(0, 3, 10)\n",
        "cmap = sns.cubehelix_palette(start=0.0, light=1, as_cmap=True)\n",
        "# Generate and plot\n",
        "x = attrition[\"Age\"].values\n",
        "y = attrition[\"TotalWorkingYears\"].values\n",
        "sns.kdeplot(x, y, cmap=cmap, shade=True, cut=5, ax=axes[0,0])\n",
        "axes[0,0].set( title = \"Age against Total working years\")\n",
        "cmap = sns.cubehelix_palette(start=0.333333333333, light=1, as_cmap=True)\n",
        "# Generate and plot\n",
        "x = attrition[\"Age\"].values\n",
        "y = attrition[\"DailyRate\"].values\n",
        "sns.kdeplot(x, y, cmap=cmap, shade=True, ax=axes[0,1])\n",
        "axes[0,1].set( title = \"Age against Daily Rate\")\n",
        "cmap = sns.cubehelix_palette(start=0.666666666667, light=1, as_cmap=True)\n",
        "# Generate and plot\n",
        "x = attrition[\"YearsInCurrentRole\"].values\n",
        "y = attrition[\"Age\"].values\n",
        "sns.kdeplot(x, y, cmap=cmap, shade=True, ax=axes[0,2])\n",
        "axes[0,2].set( title = \"Years in role against Age\")\n",
        "cmap = sns.cubehelix_palette(start=1.0, light=1, as_cmap=True)\n",
        "# Generate and plot\n",
        "x = attrition[\"DailyRate\"].values\n",
        "y = attrition[\"DistanceFromHome\"].values\n",
        "sns.kdeplot(x, y, cmap=cmap, shade=True, ax=axes[1,0])\n",
        "axes[1,0].set( title = \"Daily Rate against DistancefromHome\")\n",
        "cmap = sns.cubehelix_palette(start=1.333333333333, light=1, as_cmap=True)\n",
        "# Generate and plot\n",
        "x = attrition[\"DailyRate\"].values\n",
        "y = attrition[\"JobSatisfaction\"].values\n",
        "sns.kdeplot(x, y, cmap=cmap, shade=True, ax=axes[1,1])\n",
        "axes[1,1].set( title = \"Daily Rate against Job satisfaction\")\n",
        "cmap = sns.cubehelix_palette(start=1.666666666667, light=1, as_cmap=True)\n",
        "# Generate and plot\n",
        "x = attrition[\"YearsAtCompany\"].values\n",
        "y = attrition[\"JobSatisfaction\"].values\n",
        "sns.kdeplot(x, y, cmap=cmap, shade=True, ax=axes[1,2])\n",
        "axes[1,2].set( title = \"Daily Rate against distance\")\n",
        "cmap = sns.cubehelix_palette(start=2.0, light=1, as_cmap=True)\n",
        "# Generate and plot\n",
        "x = attrition[\"YearsAtCompany\"].values\n",
        "y = attrition[\"DailyRate\"].values\n",
        "sns.kdeplot(x, y, cmap=cmap, shade=True, ax=axes[2,0])\n",
        "axes[2,0].set( title = \"Years at company against Daily Rate\")\n",
        "cmap = sns.cubehelix_palette(start=2.333333333333, light=1, as_cmap=True)\n",
        "# Generate and plot\n",
        "x = attrition[\"RelationshipSatisfaction\"].values\n",
        "y = attrition[\"YearsWithCurrManager\"].values\n",
        "sns.kdeplot(x, y, cmap=cmap, shade=True, ax=axes[2,1])\n",
        "axes[2,1].set( title = \"Relationship Satisfaction vs years with manager\")\n",
        "cmap = sns.cubehelix_palette(start=2.666666666667, light=1, as_cmap=True)\n",
        "# Generate and plot\n",
        "x = attrition[\"WorkLifeBalance\"].values\n",
        "y = attrition[\"JobSatisfaction\"].values\n",
        "sns.kdeplot(x, y, cmap=cmap, shade=True, ax=axes[2,2])\n",
        "axes[2,2].set( title = \"WorklifeBalance against Satisfaction\")\n",
        "f.tight_layout()"
      ],
      "execution_count": 0,
      "outputs": []
    },
    {
      "cell_type": "code",
      "metadata": {
        "id": "bEGPK3xFij9l",
        "colab_type": "code",
        "colab": {}
      },
      "source": [
        "# creating a list of only numerical values\n",
        "numerical = [u'Age', u'DailyRate', u'DistanceFromHome', \n",
        "             u'Education', u'EmployeeNumber', u'EnvironmentSatisfaction',\n",
        "             u'HourlyRate', u'JobInvolvement', u'JobLevel', u'JobSatisfaction',\n",
        "             u'MonthlyIncome', u'MonthlyRate', u'NumCompaniesWorked',\n",
        "             u'PercentSalaryHike', u'PerformanceRating', u'RelationshipSatisfaction',\n",
        "             u'StockOptionLevel', u'TotalWorkingYears',\n",
        "             u'TrainingTimesLastYear', u'WorkLifeBalance', u'YearsAtCompany',\n",
        "             u'YearsInCurrentRole', u'YearsSinceLastPromotion',u'YearsWithCurrManager']\n",
        "data = [\n",
        "    go.Heatmap(\n",
        "        z= attrition[numerical].astype(float).corr().values, # Generating the Pearson correlation\n",
        "        x=attrition[numerical].columns.values,\n",
        "        y=attrition[numerical].columns.values,\n",
        "        colorscale='Viridis',\n",
        "        reversescale = False,\n",
        "#         text = True ,\n",
        "        opacity = 1.0\n",
        "        \n",
        "    )\n",
        "]\n",
        "\n",
        "\n",
        "layout = go.Layout(\n",
        "    title='Pearson Correlation of numerical features',\n",
        "    xaxis = dict(ticks='', nticks=36),\n",
        "    yaxis = dict(ticks='' ),\n",
        "    width = 900, height = 700,\n",
        "    \n",
        ")\n",
        "\n",
        "\n",
        "fig = go.Figure(data=data, layout=layout)\n",
        "py.iplot(fig, filename='labelled-heatmap')"
      ],
      "execution_count": 0,
      "outputs": []
    },
    {
      "cell_type": "code",
      "metadata": {
        "id": "T_zd9Ya4iyKF",
        "colab_type": "code",
        "colab": {}
      },
      "source": [
        "attrition_tar= attrition.drop(['Attrition'], axis=1)\n",
        "y=attrition['Attrition']"
      ],
      "execution_count": 0,
      "outputs": []
    },
    {
      "cell_type": "code",
      "metadata": {
        "id": "c6p6D4zvjJlH",
        "colab_type": "code",
        "colab": {}
      },
      "source": [
        "from sklearn.model_selection import train_test_split\n",
        "#from sklearn.cross_validation import train_test_split\n",
        "#from sklearn.cross_validation import StratifiedShuffleSplit\n",
        "\n",
        "# Split data into train and test sets as well as for validation and testing\n",
        "x_train, x_test, y_train, y_test = train_test_split(attrition_tar, \n",
        "                                                         y, \n",
        "                                                         train_size= 0.80,\n",
        "                                                         random_state=0);"
      ],
      "execution_count": 0,
      "outputs": []
    },
    {
      "cell_type": "code",
      "metadata": {
        "id": "GyzZpmRfja-n",
        "colab_type": "code",
        "colab": {}
      },
      "source": [
        "print(x_train.shape)\n",
        "print(y_train.shape)\n",
        "print(x_test.shape)\n",
        "print(y_test.shape)"
      ],
      "execution_count": 0,
      "outputs": []
    },
    {
      "cell_type": "code",
      "metadata": {
        "id": "A1w5b793jgyZ",
        "colab_type": "code",
        "colab": {}
      },
      "source": [
        "type(y_train)"
      ],
      "execution_count": 0,
      "outputs": []
    },
    {
      "cell_type": "code",
      "metadata": {
        "id": "lZR1rdEzjl1i",
        "colab_type": "code",
        "colab": {}
      },
      "source": [
        "def encoding(data):\n",
        "    # Empty list to store columns with categorical data\n",
        "    categorical = []\n",
        "    for col, value in data.iteritems():\n",
        "        if value.dtype == 'object':\n",
        "            categorical.append(col)\n",
        "\n",
        "    # Store the numerical columns in a list numerical\n",
        "    numerical = data.columns.difference(categorical)\n",
        "    attrition_cat = data[categorical]\n",
        "    attrition_cat = pd.get_dummies(attrition_cat)\n",
        "    # Store the numerical features to a dataframe attrition_num\n",
        "    attrition_num = data[numerical]\n",
        "    # Concat the two dataframes together columnwise\n",
        "    attrition_final = pd.concat([attrition_num, attrition_cat], axis=1)\n",
        "    print(attrition_final.columns)\n",
        "    return attrition_final"
      ],
      "execution_count": 0,
      "outputs": []
    },
    {
      "cell_type": "code",
      "metadata": {
        "id": "IDCDU7-7jpSx",
        "colab_type": "code",
        "colab": {}
      },
      "source": [
        "x_train_encode=encoding(x_train)\n",
        "x_train_encode.shape"
      ],
      "execution_count": 0,
      "outputs": []
    },
    {
      "cell_type": "code",
      "metadata": {
        "id": "luC20EpOjsMP",
        "colab_type": "code",
        "colab": {}
      },
      "source": [
        "x_test_encode=encoding(x_test)"
      ],
      "execution_count": 0,
      "outputs": []
    },
    {
      "cell_type": "code",
      "metadata": {
        "id": "ESvhQ_k3jvbl",
        "colab_type": "code",
        "colab": {}
      },
      "source": [
        "def target_encode(data):\n",
        "    # Define a dictionary for the target mapping\n",
        "    target_map = {'Yes':1, 'No':0}\n",
        "# Use the pandas apply method to numerically encode our attrition target variable\n",
        "    target = data.apply(lambda x: target_map[x])\n",
        "    return target"
      ],
      "execution_count": 0,
      "outputs": []
    },
    {
      "cell_type": "code",
      "metadata": {
        "id": "h4UFpga1jyr0",
        "colab_type": "code",
        "colab": {}
      },
      "source": [
        "y_train_encode=target_encode(y_train)\n",
        "y_test_encode=target_encode(y_test)"
      ],
      "execution_count": 0,
      "outputs": []
    },
    {
      "cell_type": "code",
      "metadata": {
        "id": "ILiO1p2qyDmC",
        "colab_type": "code",
        "colab": {}
      },
      "source": [
        "scalar=StandardScaler()\n",
        "x_train_scaled=scalar.fit(x_train_encode)\n",
        "x_test_scaled=scalar.transform(x_train_encode)"
      ],
      "execution_count": 0,
      "outputs": []
    },
    {
      "cell_type": "code",
      "metadata": {
        "id": "2qJES5weymeR",
        "colab_type": "code",
        "colab": {}
      },
      "source": [
        "clf=SVC()\n",
        "clf.fit(x_train_encode,y_train_encode)\n",
        "y_pred=clf.predict(x_test_encode)"
      ],
      "execution_count": 0,
      "outputs": []
    },
    {
      "cell_type": "code",
      "metadata": {
        "id": "sJLJfhIC0FZk",
        "colab_type": "code",
        "colab": {}
      },
      "source": [
        "accuracy_score(y_test_encode,y_pred)"
      ],
      "execution_count": 0,
      "outputs": []
    },
    {
      "cell_type": "code",
      "metadata": {
        "id": "ysdP4xEn0dVD",
        "colab_type": "code",
        "colab": {}
      },
      "source": [
        "hparams = {\"C\": [0.1, 1, 10, 100],\n",
        "                  \"kernel\": [\"linear\", \"rbf\", \"poly\"], \n",
        "                   \"gamma\": [0.001, 0.0001]}"
      ],
      "execution_count": 0,
      "outputs": []
    },
    {
      "cell_type": "code",
      "metadata": {
        "id": "_6t0LEgdBsTl",
        "colab_type": "code",
        "colab": {}
      },
      "source": [
        "grid_search_cv=GridSearchCV(SVC(),param_grid=hparams,scoring='accuracy',n_jobs=-1)\n",
        "grid_search_cv.fit(x_train_encode,y_train_encode)"
      ],
      "execution_count": 0,
      "outputs": []
    },
    {
      "cell_type": "code",
      "metadata": {
        "id": "LZjPkWmy2baE",
        "colab_type": "code",
        "colab": {}
      },
      "source": [
        "print(grid_search_cv.test_score_)\n",
        "grid_search_cv.best_params_"
      ],
      "execution_count": 0,
      "outputs": []
    },
    {
      "cell_type": "code",
      "metadata": {
        "id": "k35TAUMkDv1r",
        "colab_type": "code",
        "colab": {}
      },
      "source": [
        "rdm_search_cv=RandomizedSearchCV(SVC(),param_distributions=hparams,scoring='accuracy',n_jobs=-1)\n",
        "rdm_search_cv.fit(x_train_encode,y_train_encode)"
      ],
      "execution_count": 0,
      "outputs": []
    },
    {
      "cell_type": "code",
      "metadata": {
        "id": "hnpaKd7o3Mgi",
        "colab_type": "code",
        "colab": {}
      },
      "source": [
        "print(rdm_search_cv.test_score_)\n",
        "rdm_search_cv.best_params_"
      ],
      "execution_count": 0,
      "outputs": []
    },
    {
      "cell_type": "code",
      "metadata": {
        "id": "z0_rttcMj1Z_",
        "colab_type": "code",
        "colab": {}
      },
      "source": [
        "oversampler=SMOTE(random_state=0)\n",
        "smote_train, smote_target = oversampler.fit_sample(x_train_encode,y_train_encode)"
      ],
      "execution_count": 0,
      "outputs": []
    },
    {
      "cell_type": "code",
      "metadata": {
        "id": "_cIfeyTRj7Yd",
        "colab_type": "code",
        "colab": {}
      },
      "source": [
        "seed = 0   # We set our random seed to zero for reproducibility\n",
        "# Random Forest parameters\n",
        "rf_params = {\n",
        "    'n_jobs': -1,\n",
        "    'n_estimators': 1000,\n",
        "#     'warm_start': True, \n",
        "    'max_features': 0.3,\n",
        "    'max_depth': 4,\n",
        "    'min_samples_leaf': 2,\n",
        "    'max_features' : 'sqrt',\n",
        "    'random_state' : seed,\n",
        "    'verbose': 0\n",
        "}\n",
        "rf = RandomForestClassifier(**rf_params)\n",
        "rf.fit(smote_train, smote_target)\n",
        "print(\"Fitting of Random Forest finished\")\n",
        "\n",
        "rf_predictions = rf.predict(x_test_encode)\n",
        "print(\"Predictions finished\")"
      ],
      "execution_count": 0,
      "outputs": []
    },
    {
      "cell_type": "code",
      "metadata": {
        "id": "w-qoY8_IkAsL",
        "colab_type": "code",
        "colab": {}
      },
      "source": [
        "print(\"Accuracy score: {}\".format(accuracy_score(y_test_encode, rf_predictions)))\n",
        "print(\"=\"*80)\n",
        "print(classification_report(y_test_encode, rf_predictions))"
      ],
      "execution_count": 0,
      "outputs": []
    },
    {
      "cell_type": "code",
      "metadata": {
        "id": "jMRN5ThykD66",
        "colab_type": "code",
        "outputId": "a5bec294-41d0-419a-cc5c-b9d708406810",
        "colab": {
          "base_uri": "https://localhost:8080/",
          "height": 804
        }
      },
      "source": [
        "features = x_train_encode.columns.values\n",
        "importances = rf.feature_importances_\n",
        "indices = np.argsort(importances)\n",
        "\n",
        "plt.figure(figsize=(15,15))\n",
        "plt.title('Feature Importances')\n",
        "plt.barh(range(len(indices)), importances[indices], color='b', align='center')\n",
        "plt.yticks(range(len(indices)), [features[i] for i in indices])\n",
        "plt.xlabel('Relative Importance')\n",
        "plt.show()"
      ],
      "execution_count": 0,
      "outputs": [
        {
          "output_type": "display_data",
          "data": {
            "image/png": "[encoded data removed]",
            "text/plain": [
              "<Figure size 1080x1080 with 1 Axes>"
            ]
          },
          "metadata": {
            "tags": [],
            "needs_background": "light"
          }
        }
      ]
    },
    {
      "cell_type": "code",
      "metadata": {
        "id": "KTBpdp13kJwh",
        "colab_type": "code",
        "colab": {}
      },
      "source": [
        "from sklearn import tree\n",
        "dt = tree.DecisionTreeClassifier()\n",
        "dt.fit(smote_train, smote_target)\n",
        "print(\"Fitting of Random Forest finished\")\n",
        "\n",
        "dt_predictions = dt.predict(x_test_encode)\n",
        "print(\"Predictions finished\")\n",
        "\n",
        "print(\"Accuracy score: {}\".format(accuracy_score(y_test_encode, dt_predictions)))\n",
        "print(\"=\"*80)\n",
        "print(classification_report(y_test_encode, dt_predictions))"
      ],
      "execution_count": 0,
      "outputs": []
    },
    {
      "cell_type": "code",
      "metadata": {
        "id": "h6tzeTmlkcjH",
        "colab_type": "code",
        "colab": {}
      },
      "source": [
        "features = x_train_encode.columns.values\n",
        "importances = dt.feature_importances_\n",
        "indices = np.argsort(importances)\n",
        "\n",
        "plt.figure(figsize=(15,15))\n",
        "plt.title('Feature Importances')\n",
        "plt.barh(range(len(indices)), importances[indices], color='b', align='center')\n",
        "plt.yticks(range(len(indices)), [features[i] for i in indices])\n",
        "plt.xlabel('Relative Importance')\n",
        "plt.show()\n"
      ],
      "execution_count": 0,
      "outputs": []
    },
    {
      "cell_type": "code",
      "metadata": {
        "id": "6J7q_YP8kfNB",
        "colab_type": "code",
        "colab": {}
      },
      "source": [
        "gb_params ={\n",
        "    'n_estimators': 1500,\n",
        "    'max_features': 0.9,\n",
        "    'learning_rate' : 0.25,\n",
        "    'max_depth': 4,\n",
        "    'min_samples_leaf': 2,\n",
        "    'subsample': 1,\n",
        "    'max_features' : 'sqrt',\n",
        "    'random_state' : seed,\n",
        "    'verbose': 0\n",
        "}\n",
        "\n",
        "gb = GradientBoostingClassifier(**gb_params)\n",
        "# Fit the model to our SMOTEd train and target\n",
        "gb.fit(smote_train, smote_target)\n",
        "# Get our predictions\n",
        "gb_predictions = gb.predict(x_test_encode)\n",
        "print(\"Predictions have finished\")\n",
        "\n",
        "print(accuracy_score(y_test_encode, gb_predictions))\n",
        "print(\"=\"*80)\n",
        "print(classification_report(y_test_encode, gb_predictions))"
      ],
      "execution_count": 0,
      "outputs": []
    },
    {
      "cell_type": "code",
      "metadata": {
        "id": "qy9xRZOskqwa",
        "colab_type": "code",
        "colab": {}
      },
      "source": [
        "features = x_train_encode.columns.values\n",
        "importances = gb.feature_importances_\n",
        "indices = np.argsort(importances)\n",
        "\n",
        "plt.figure(figsize=(15,15))\n",
        "plt.title('Feature Importances')\n",
        "plt.barh(range(len(indices)), importances[indices], color='b', align='center')\n",
        "plt.yticks(range(len(indices)), [features[i] for i in indices])\n",
        "plt.xlabel('Relative Importance')\n",
        "plt.show()"
      ],
      "execution_count": 0,
      "outputs": []
    }
  ]
}